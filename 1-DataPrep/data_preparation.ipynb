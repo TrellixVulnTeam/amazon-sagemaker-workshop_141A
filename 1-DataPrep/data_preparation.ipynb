{
 "cells": [
  {
   "cell_type": "markdown",
   "metadata": {},
   "source": [
    "# Amazon SageMaker Workshop\n",
    "### _**Data Preparation**_\n",
    "\n",
    "---\n",
    "In this part of the workshop we will prepare the data to later train our churn model.\n",
    "\n",
    "---\n",
    "\n",
    "## Contents\n",
    "\n",
    "1. [Background](#Background) - Getting the rawata prepared in the previous lab.\n",
    "2. [Prepare](#Prepare) - Prepare the data with [Amazon SageMaker Data Wrangler](https://aws.amazon.com/sagemaker/data-wrangler/)\n",
    "    * [Creating features](https://docs.aws.amazon.com/sagemaker/latest/dg/data-wrangler-transform.html)\n",
    "    * [Creating analysis](https://docs.aws.amazon.com/sagemaker/latest/dg/data-wrangler-analyses.html)\n",
    "    * [Analyzing the data and features](https://docs.aws.amazon.com/sagemaker/latest/dg/clarify-measure-data-bias.html)\n",
    "3. [Submiting the data to Feature Store](#FeatureStore) - Store the features created in [Amazon SageMaker Feature Store](https://aws.amazon.com/sagemaker/feature-store/)\n",
    "  \n",
    "---\n",
    "\n",
    "## Background\n",
    "\n",
    "In the previous [Introduction lab](../0-Introduction/introduction.ipynb) we created a S3 bucket and uploaded the raw data to it.\n",
    "\n",
    "Let's get started!\n",
    "\n",
    "Get variables from previous configuration notebook:"
   ]
  },
  {
   "cell_type": "code",
   "execution_count": null,
   "metadata": {},
   "outputs": [],
   "source": [
    "%store -r bucket\n",
    "%store -r region\n",
    "%store -r prefix\n",
    "%store -r s3uri_raw\n",
    "%store -r docker_image_name\n",
    "%store -r framework_version\n",
    "bucket, prefix, s3uri_raw, region, docker_image_name, framework_version"
   ]
  },
  {
   "cell_type": "markdown",
   "metadata": {},
   "source": [
    "Let's import the libraries for this lab:"
   ]
  },
  {
   "cell_type": "code",
   "execution_count": null,
   "metadata": {
    "isConfigCell": true,
    "tags": [
     "parameters"
    ]
   },
   "outputs": [],
   "source": [
    "import sagemaker\n",
    "\n",
    "sess = sagemaker.Session()\n",
    "\n",
    "# Define IAM role\n",
    "import boto3\n",
    "import re\n",
    "from sagemaker import get_execution_role\n",
    "\n",
    "role = get_execution_role()\n",
    "role"
   ]
  },
  {
   "cell_type": "code",
   "execution_count": null,
   "metadata": {},
   "outputs": [],
   "source": [
    "import io\n",
    "import os\n",
    "import sys\n",
    "import time\n",
    "import json\n",
    "\n",
    "import pandas as pd\n",
    "import numpy as np\n",
    "import matplotlib.pyplot as plt\n",
    "\n",
    "from IPython.display import display as dis\n",
    "from time import strftime, gmtime\n",
    "from sagemaker.inputs import TrainingInput\n",
    "from sagemaker.serializers import CSVSerializer\n",
    "from IPython import display "
   ]
  },
  {
   "cell_type": "markdown",
   "metadata": {},
   "source": [
    "# Importing Data on DataWrangler\n",
    "\n",
    "To start, we will create a new flow and import the raw data to perform analysis and transformations on it. On the left menu, click on \"Components and Registries\", select \"Data Wrangler\" on the dropdown, and click \"New Flow\". This process is shown on the image below."
   ]
  },
  {
   "cell_type": "markdown",
   "metadata": {},
   "source": [
    "<img src=\"media/010-new_flow.png\" width=\"30%\" />"
   ]
  },
  {
   "cell_type": "markdown",
   "metadata": {},
   "source": [
    "As soon as we click on \"New Flow\", Data Wrangler will be on a loading state. After a couple minutes you should be able to import the raw data on it. While we wait, we can rename our flow by right clicking on the flow tab and choosing \"Rename Data Wrangler Flow...\"."
   ]
  },
  {
   "cell_type": "markdown",
   "metadata": {},
   "source": [
    "<img src=\"media/020-load_new_flow.png\" width=\"100%\" />\n",
    "\n",
    "Let's call the file `churn.flow`"
   ]
  },
  {
   "cell_type": "markdown",
   "metadata": {},
   "source": [
    "After Data Wrangler finishes loading, we may proceed importing our data. We'll be importing our data from Amazon S3. The following images guide us through the process."
   ]
  },
  {
   "cell_type": "markdown",
   "metadata": {},
   "source": [
    "<img src=\"media/030-importing_from_s3.png\" width=\"100%\" />"
   ]
  },
  {
   "cell_type": "markdown",
   "metadata": {},
   "source": [
    "Using the search box or the table in the bottom, locate the S3 Bucket where our dataset is stored.\n",
    "\n",
    "To remember the bucket and prefix run cell below:"
   ]
  },
  {
   "cell_type": "code",
   "execution_count": null,
   "metadata": {},
   "outputs": [],
   "source": [
    "s3uri_raw"
   ]
  },
  {
   "cell_type": "markdown",
   "metadata": {},
   "source": [
    "<img src=\"media/040-choosing_bucket.png\" width=\"100%\" />"
   ]
  },
  {
   "cell_type": "markdown",
   "metadata": {},
   "source": [
    "Choose the \"churn.csv\" file, disable the \"Enable sampling\" checkbox, and click \"Import\". Feel free to check the data preview on the \"Preview\" session on the bottom!"
   ]
  },
  {
   "cell_type": "markdown",
   "metadata": {},
   "source": [
    "<img src=\"media/050-choose_csv_preview.png\" width=\"100%\" />"
   ]
  },
  {
   "cell_type": "markdown",
   "metadata": {},
   "source": [
    "# Data Analysis on Data Wrangler\n",
    "\n",
    "Next, we are going to analyze our data by understanding feature distribution and how each of them impacts our target column. Data Wrangler allow us to perform such analysis inside user interface, let's start creating these analysis."
   ]
  },
  {
   "cell_type": "markdown",
   "metadata": {},
   "source": [
    "To start our analysis, we'll create a summary of our imported data. The summary can be rertieved by adding a new analysis on Data Wrangler. The following images show the step by step to create our table summary."
   ]
  },
  {
   "cell_type": "markdown",
   "metadata": {},
   "source": [
    "<img src=\"media/060-add_first_analysis.png\" width=\"100%\" />"
   ]
  },
  {
   "cell_type": "markdown",
   "metadata": {},
   "source": [
    "<img src=\"media/070-table_summary.png\" width=\"100%\" />"
   ]
  },
  {
   "cell_type": "markdown",
   "metadata": {},
   "source": [
    "As soon as you click on Preview or entering in your saved analysis, you'll see the table summary as shown in the image below."
   ]
  },
  {
   "cell_type": "markdown",
   "metadata": {},
   "source": [
    "<img src=\"media/080-table_summary_preview.png\" width=\"100%\" />"
   ]
  },
  {
   "cell_type": "markdown",
   "metadata": {},
   "source": [
    "By modern standards, it’s a relatively small dataset, with only 5,000 records, where each record uses 21 attributes to describe the profile of a customer of an unknown US mobile operator. The attributes are:\n",
    "\n",
    "- `State`: the US state in which the customer resides, indicated by a two-letter abbreviation; for example, OH or NJ\n",
    "- `Account Length`: the number of days that this account has been active\n",
    "- `Area Code`: the three-digit area code of the corresponding customer’s phone number\n",
    "- `Phone`: the remaining seven-digit phone number\n",
    "- `Int’l Plan`: whether the customer has an international calling plan: yes/no\n",
    "- `VMail Plan`: whether the customer has a voice mail feature: yes/no\n",
    "- `VMail Message`: presumably the average number of voice mail messages per month\n",
    "- `Day Mins`: the total number of calling minutes used during the day\n",
    "- `Day Calls`: the total number of calls placed during the day\n",
    "- `Day Charge`: the billed cost of daytime calls\n",
    "- `Eve Mins, Eve Calls, Eve Charge`: the billed cost for calls placed during the evening\n",
    "- `Night Mins`, `Night Calls`, `Night Charge`: the billed cost for calls placed during nighttime\n",
    "- `Intl Mins`, `Intl Calls`, `Intl Charge`: the billed cost for international calls\n",
    "- `CustServ Calls`: the number of calls placed to Customer Service\n",
    "- `Churn?`: whether the customer left the service: true/false\n",
    "\n",
    "The last attribute, `Churn?`, is known as the target attribute–the attribute that we want the ML model to predict.  Because the target attribute is binary, our model will be performing binary prediction, also known as binary classification."
   ]
  },
  {
   "cell_type": "markdown",
   "metadata": {},
   "source": [
    "Continuing our data analysis, we can leverage different Analysis type on Data Wrangler. Next, we can use Histogram to understand our feature distribution and how it impacts our target value. Going back to the \"Analyze\" tab, we can add a new Analysis. Then, we can choose Histogram as the \"Analysis type\" and select a feature to explore its distribution. On the following images we've chosen `Account Length` as feature and colored it by our target variable `Churn?`."
   ]
  },
  {
   "cell_type": "markdown",
   "metadata": {},
   "source": [
    "<img src=\"media/090-analyze_tab_create_new_analysis.png\" width=\"100%\" />"
   ]
  },
  {
   "cell_type": "markdown",
   "metadata": {},
   "source": [
    "<img src=\"media/100-account_length_histogram.png\" width=\"100%\" />"
   ]
  },
  {
   "cell_type": "markdown",
   "metadata": {},
   "source": [
    "As we can see, we are able to check the distribution of our feature and how its distribution relates to our target value. Feel free to create new histograms for any other feature!"
   ]
  },
  {
   "cell_type": "markdown",
   "metadata": {},
   "source": [
    "For our last analysis, we'll leverage the \"Quick Model\" analysis provided by Data Wrangler. This analysis trains a Random Forest algorithm on its own and calculates a feature importance score for each feature on our dataset. You can learn more about the \"Quick Model\" analysis on this [page](https://docs.aws.amazon.com/sagemaker/latest/dg/data-wrangler-analyses.html#data-wrangler-quick-model) of the Amazon SageMaker Data Wrangler documentation.\n"
   ]
  },
  {
   "cell_type": "markdown",
   "metadata": {},
   "source": [
    "<img src=\"media/110-quick_model_analysis.png\" width=\"100%\" />"
   ]
  },
  {
   "cell_type": "markdown",
   "metadata": {},
   "source": [
    "The higher the score, the more important the feature is. Therefore, feature `Day Mins` is the most important feature on our dataset according to the \"Quick Model\" analysis."
   ]
  },
  {
   "cell_type": "markdown",
   "metadata": {},
   "source": [
    "# Data Transforms on Data Wrangler\n",
    "\n",
    "Go back to the DAG view by clicking on `Prepare` tab (on the top  left).\n",
    "\n",
    "Follow the instructions on the image below:  \n",
    "1 - Click on the plus (+) button  \n",
    "2 - Click Edit data types  "
   ]
  },
  {
   "cell_type": "markdown",
   "metadata": {},
   "source": [
    "<img src=\"media/120-edit_data_types.png\" width=\"100%\" />"
   ]
  },
  {
   "cell_type": "markdown",
   "metadata": {},
   "source": [
    "3 - Find the column you want to change  \n",
    "4 - Select the desired type from the dropdown\n",
    "5 - Click preview  \n",
    "6 - Click Add"
   ]
  },
  {
   "cell_type": "markdown",
   "metadata": {},
   "source": [
    "<img src=\"media/130-area_code_to_object.png\" width=\"100%\" />"
   ]
  },
  {
   "cell_type": "markdown",
   "metadata": {},
   "source": [
    "Once you finish, click \"Back to data flow\" on the top right corner\n",
    "\n",
    "### Now lets drop the Phone column by adding a Transform  \n",
    "1 - Click the plus (+)  \n",
    "2 - Add Transform"
   ]
  },
  {
   "cell_type": "markdown",
   "metadata": {},
   "source": [
    "<img src=\"media/140-add_transform.png\" width=\"100%\" />"
   ]
  },
  {
   "cell_type": "markdown",
   "metadata": {},
   "source": [
    "3 - Click on manage columns  \n",
    "4 - Select the `Phone` column from the dropdown (as shown in step 2)  \n",
    "5 - Click on preview  \n",
    "6 - Click add"
   ]
  },
  {
   "cell_type": "markdown",
   "metadata": {},
   "source": [
    "<img src=\"media/150-steps_drop_phone_col.png\" width=\"100%\" />"
   ]
  },
  {
   "cell_type": "markdown",
   "metadata": {},
   "source": [
    "### Now lets Drop a few more columns  \n",
    "I'll be dropping the first (Day Charge) as an example, just repeat the steps in the image below for the following columns:\n",
    "* \"Day Charge\"\n",
    "* \"Eve Charge\"\n",
    "* \"Night Charge\"\n",
    "* \"Intl Charge\""
   ]
  },
  {
   "cell_type": "markdown",
   "metadata": {},
   "source": [
    "<img src=\"media/160-adding_new_transform.png\" width=\"100%\" />"
   ]
  },
  {
   "cell_type": "markdown",
   "metadata": {},
   "source": [
    "<img src=\"media/170-drop_column_pt2.png\" width=\"100%\" />"
   ]
  },
  {
   "cell_type": "markdown",
   "metadata": {},
   "source": [
    "### Now lets do OneHot Encoding using a custom transform\n",
    "You can copy the code for the custom transform here:\n",
    "```python\n",
    "import pandas as pd\n",
    "\n",
    "model_data = pd.get_dummies(df)\n",
    "\n",
    "df = pd.concat(\n",
    "  [model_data[\"Churn?_True.\"],\n",
    "   model_data.drop( [\"Churn?_False.\", \"Churn?_True.\"], axis=1)],\n",
    "  axis=1\n",
    ").rename( \n",
    "  columns = {\n",
    "    \"Churn?_True.\": \"Churn\"\n",
    "  }\n",
    ")\n",
    "```"
   ]
  },
  {
   "cell_type": "markdown",
   "metadata": {},
   "source": [
    "<img src=\"media/180-custom_transform.png\" width=\"100%\" />"
   ]
  },
  {
   "cell_type": "markdown",
   "metadata": {},
   "source": [
    "# Exercise:\n",
    "\n",
    "### Your turn!!\n",
    "\n",
    "Create a few more features and run `Quick Model` analysis to see if the features are helping improve the performance (F1 score)."
   ]
  },
  {
   "cell_type": "code",
   "execution_count": null,
   "metadata": {},
   "outputs": [],
   "source": [
    "# Create your own features and test them with Quick Model analysis\n",
    "\n",
    "\n",
    "\n",
    "\n"
   ]
  },
  {
   "cell_type": "markdown",
   "metadata": {},
   "source": [
    "# Exporting Transformed data on Data Wrangler\n",
    "\n",
    "After performing the transformations needed on our dataset, we'll export the transformed data to our S3 bucket. We are able to do so inside Data Wrangler UI by following the steps highlighted on the images below.\n",
    "\n",
    "For this export step **just choose the  following transforms:**"
   ]
  },
  {
   "cell_type": "markdown",
   "metadata": {},
   "source": [
    "<img src=\"media/190-select_transforms_to_export.png\" width=\"100%\" />"
   ]
  },
  {
   "cell_type": "markdown",
   "metadata": {},
   "source": [
    "<img src=\"media/200-exporting_to_s3.png\" width=\"100%\" />"
   ]
  },
  {
   "cell_type": "markdown",
   "metadata": {},
   "source": [
    "After selecting the `Save to S3` option, a new notebook will be displayed similar to the one presented on the image below."
   ]
  },
  {
   "cell_type": "markdown",
   "metadata": {},
   "source": [
    "<img src=\"media/210-export_to_s3_notebook.png\" width=\"100%\" />"
   ]
  },
  {
   "cell_type": "markdown",
   "metadata": {},
   "source": [
    "We can proceed to `Run all cells`, as described in the notebook. The processing job will start and it will take a few minutes to finish. Upon completion, we'll see a similar output on the cell presented on the following image."
   ]
  },
  {
   "cell_type": "markdown",
   "metadata": {},
   "source": [
    "<img src=\"media/219-dw-notebook-run-all.png\" width=\"100%\" />\n",
    "\n",
    "In the end of that notebook check that Processing Job is running (with the Data Wrangler Docker image):\n",
    "\n",
    "<img src=\"media/220-processing_job_finished.png\" width=\"100%\" />"
   ]
  },
  {
   "cell_type": "markdown",
   "metadata": {},
   "source": [
    "On the left menu, click on \"Components and Registries\", select \"Experiments and trial\" on the dropdown.\n",
    "\n",
    "Select and double-click \"Unassigned trial components\":\n",
    "\n",
    "<img src=\"media/225-open-experiments-processing.png\" width=\"50%\"/>\n",
    "\n",
    "Select your processing job trial and open (right click and select \"Open in trial details\"):\n",
    "\n",
    "<img src=\"media/225-find-processing-info.png\" width=\"60%\"/>\n",
    "\n",
    "Go to the `Artifacts` tab, and **copy** the S3 URI of the output:\n",
    "\n",
    "<img src=\"media/225-find-processing-output.png\" width=\"100%\" />"
   ]
  },
  {
   "cell_type": "markdown",
   "metadata": {},
   "source": [
    "Paste your S3 URI below:"
   ]
  },
  {
   "cell_type": "code",
   "execution_count": null,
   "metadata": {},
   "outputs": [],
   "source": [
    "s3uri_processed = \"s3://YOUR-BUCKET/PATH/TO/OUTPUT/HERE.csv\""
   ]
  },
  {
   "cell_type": "code",
   "execution_count": null,
   "metadata": {},
   "outputs": [],
   "source": [
    "s3uri_processed_file = sagemaker.s3.S3Downloader.list(s3uri_processed)[0]\n",
    "s3uri_processed_file"
   ]
  },
  {
   "cell_type": "markdown",
   "metadata": {},
   "source": [
    "If you want to check it in S3 console run the cell bellow and click the link:"
   ]
  },
  {
   "cell_type": "code",
   "execution_count": null,
   "metadata": {},
   "outputs": [],
   "source": [
    "from IPython.core.display import display, HTML\n",
    "from sagemaker.s3 import parse_s3_url\n",
    "\n",
    "out_bucket, out_prefix = parse_s3_url(s3uri_processed_file)\n",
    "out_path = os.path.dirname(out_prefix)\n",
    "out_file = os.path.basename(out_prefix)\n",
    "\n",
    "s3_url_placeholder = \"https://s3.console.aws.amazon.com/s3/buckets/{}?&prefix={}/\"\n",
    "display(HTML(f\"<a href={s3_url_placeholder.format(out_bucket, out_path)}>Go to S3 console and check output of Data Wrangler</a>\"))"
   ]
  },
  {
   "cell_type": "markdown",
   "metadata": {},
   "source": [
    "In the S3 console you should see:"
   ]
  },
  {
   "cell_type": "markdown",
   "metadata": {},
   "source": [
    "<img src=\"media/230-download_transformed_data_s3.png\" width=\"100%\" />\n",
    "\n",
    "(If you want to download the data to you computer follow the steps in the image above)"
   ]
  },
  {
   "cell_type": "markdown",
   "metadata": {},
   "source": [
    "Let's download the data to Studio:"
   ]
  },
  {
   "cell_type": "code",
   "execution_count": null,
   "metadata": {},
   "outputs": [],
   "source": [
    "sess.download_data(\".\", \n",
    "                   out_bucket, \n",
    "                   key_prefix=out_prefix)"
   ]
  },
  {
   "cell_type": "markdown",
   "metadata": {},
   "source": [
    "Click the refresh button on Studio. You should see something like:\n",
    "\n",
    "<img src=\"media/230-download_transformed_data_s3_local.png\" width=\"50%\" />\n",
    "\n",
    "(The CSV file is downloaded)"
   ]
  },
  {
   "cell_type": "code",
   "execution_count": null,
   "metadata": {},
   "outputs": [],
   "source": [
    "out_file"
   ]
  },
  {
   "cell_type": "code",
   "execution_count": null,
   "metadata": {},
   "outputs": [],
   "source": [
    "model_data = pd.read_csv(out_file)\n",
    "model_data.head()"
   ]
  },
  {
   "cell_type": "markdown",
   "metadata": {},
   "source": [
    "Above we should see the transformed data with `Churn` in the first columns, the one-hot-encoded columns and so on.\n",
    "\n",
    "Finally, let's break the data into **train, validation and test sets:**"
   ]
  },
  {
   "cell_type": "code",
   "execution_count": null,
   "metadata": {},
   "outputs": [],
   "source": [
    "train_data, validation_data, test_data = np.split(\n",
    "    model_data.sample(frac=1, random_state=1729),\n",
    "    [int(0.7 * len(model_data)), int(0.9 * len(model_data))],\n",
    ")\n",
    "train_data.shape, validation_data.shape, test_data.shape"
   ]
  },
  {
   "cell_type": "code",
   "execution_count": null,
   "metadata": {},
   "outputs": [],
   "source": [
    "train_data.head(2)"
   ]
  },
  {
   "cell_type": "code",
   "execution_count": null,
   "metadata": {},
   "outputs": [],
   "source": [
    "model_data.shape"
   ]
  },
  {
   "cell_type": "markdown",
   "metadata": {},
   "source": [
    "Create CSV files for the 3 datasets:"
   ]
  },
  {
   "cell_type": "code",
   "execution_count": null,
   "metadata": {},
   "outputs": [],
   "source": [
    "train_file_name = \"train.csv\"\n",
    "validation_file_name = \"validation.csv\"\n",
    "test_file_name = \"test.csv\"\n",
    "\n",
    "train_data.to_csv(train_file_name , header=False, index=False)\n",
    "validation_data.to_csv(validation_file_name, header=False, index=False)\n",
    "test_data.to_csv(test_file_name, header=False, index=False)"
   ]
  },
  {
   "cell_type": "markdown",
   "metadata": {},
   "source": [
    "Lastly, we'll upload these files to S3."
   ]
  },
  {
   "cell_type": "code",
   "execution_count": null,
   "metadata": {},
   "outputs": [],
   "source": [
    "# Return the URLs of the uploaded files, so they can be reviewed or used elsewhere\n",
    "train_dir = f\"{prefix}/data/train\"\n",
    "val_dir = f\"{prefix}/data/validation\"\n",
    "test_dir = f\"{prefix}/data/test\"\n",
    "\n",
    "s3uri_train = sagemaker.s3.S3Uploader.upload(train_file_name, f's3://{bucket}/{train_dir}')\n",
    "s3uri_validation = sagemaker.s3.S3Uploader.upload(validation_file_name, f's3://{bucket}/{val_dir}')\n",
    "s3uri_test = sagemaker.s3.S3Uploader.upload(test_file_name, f's3://{bucket}/{test_dir}')\n",
    "s3uri_train, s3uri_validation, s3uri_test"
   ]
  },
  {
   "cell_type": "markdown",
   "metadata": {},
   "source": [
    "Save the S3 URIs for the 3 datasets for later:"
   ]
  },
  {
   "cell_type": "code",
   "execution_count": null,
   "metadata": {},
   "outputs": [],
   "source": [
    "%store s3uri_train\n",
    "%store s3uri_validation\n",
    "%store s3uri_test"
   ]
  },
  {
   "cell_type": "markdown",
   "metadata": {},
   "source": [
    "# Wrap-up\n",
    "\n",
    "Now that we finished the **data preparation lab**, let's make everything here re-usable. It may come in handy later (spoiler alert - when creating Pipelines)...\n",
    "\n",
    "**Obs.:** We will use the `sagemaker.processing.Processor` and class, like you saw in the notebook generated by Data Wrangler to save the processed data to S3 and also the `sagemaker.sklearn.processing.SKLearnProcessor` for spliting the dataset."
   ]
  },
  {
   "cell_type": "code",
   "execution_count": null,
   "metadata": {},
   "outputs": [],
   "source": [
    "# Save Data Wrangler configurations for feature engineering\n",
    "s3uri_code = f\"s3://{bucket}/{prefix}/code\"\n",
    "s3uri_code\n",
    "\n",
    "s3_dataprep_dw_code_uri = sagemaker.s3.S3Uploader.upload(\"churn.flow\", s3uri_code)\n",
    "%store s3_dataprep_dw_code_uri\n",
    "s3_dataprep_dw_code_uri"
   ]
  },
  {
   "cell_type": "markdown",
   "metadata": {},
   "source": [
    "Create Processing code for splitting data sets:"
   ]
  },
  {
   "cell_type": "code",
   "execution_count": null,
   "metadata": {},
   "outputs": [],
   "source": [
    "%%writefile preprocess_split.py\n",
    "\"\"\"Feature engineers the customer churn dataset.\"\"\"\n",
    "import argparse\n",
    "import logging\n",
    "import pathlib\n",
    "\n",
    "import boto3\n",
    "import numpy as np\n",
    "import pandas as pd\n",
    "\n",
    "logger = logging.getLogger()\n",
    "logger.setLevel(logging.INFO)\n",
    "logger.addHandler(logging.StreamHandler())\n",
    "\n",
    "def get_df(input_data_dir):\n",
    "    logger.info(\"Reading downloaded data and putting it in a Pandas DF.\")\n",
    "    input_files = [ os.path.join(input_data_dir, file) for file in os.listdir(input_data_dir) ]\n",
    "    if len(input_files) == 0:\n",
    "        raise ValueError(('There are no files in {}.\\n' +\n",
    "                          'This usually indicates that the input ({}) was incorrectly specified,\\n' +\n",
    "                          'the data specification in S3 was incorrectly specified or the role specified\\n' +\n",
    "                          'does not have permission to access the data.').format(input_data_dir, \"train\"))\n",
    "    raw_data = [ pd.read_csv(file, header=None, engine=\"python\") for file in input_files ]\n",
    "    \n",
    "    return pd.concat(raw_data)\n",
    "\n",
    "    \n",
    "def get_files_df(input_s3_path) -> pd.DataFrame:\n",
    "    bucket_name = input_data.split(\"/\")[2]\n",
    "    key = \"/\".join(input_data.split(\"/\")[3:])\n",
    "    \n",
    "    base_dir = \"/opt/ml/processing\"\n",
    "    input_data_dir = f\"{base_dir}/data\"\n",
    "    pathlib.Path(input_data_dir).mkdir(parents=True, exist_ok=True)\n",
    "\n",
    "    logger.info(\"Downloading data from bucket: %s, key: %s\", bucket, key)\n",
    "    s3_resource = boto3.resource('s3')\n",
    "    bucket = s3_resource.Bucket(bucket_name) \n",
    "    \n",
    "    for obj in bucket.objects.filter(Prefix = key):\n",
    "        bucket.download_file(obj.key, f\"{input_data_dir}/{obj.key}\") # save to the data path\n",
    "\n",
    "    # read in CSVs and return DF\n",
    "    return get_df(input_data_dir)\n",
    "    \n",
    "\n",
    "if __name__ == \"__main__\":\n",
    "    logger.info(\"Starting preprocessing.\")\n",
    "    parser = argparse.ArgumentParser()\n",
    "    parser.add_argument(\"--input-data\", type=str, required=True)\n",
    "    args = parser.parse_args()\n",
    "\n",
    "    input_data = args.input_data\n",
    "    \n",
    "    # Download processed data and get pandas DF\n",
    "    model_data = get_files_df(input_data) \n",
    "    \n",
    "    # Split the data\n",
    "    train_data, validation_data, test_data = np.split(\n",
    "        model_data.sample(frac=1, random_state=1729),\n",
    "        [int(0.7 * len(model_data)), int(0.9 * len(model_data))],\n",
    "    )\n",
    "\n",
    "    pd.DataFrame(train_data).to_csv(\n",
    "        f\"{base_dir}/train/train.csv\", header=False, index=False\n",
    "    )\n",
    "    pd.DataFrame(validation_data).to_csv(\n",
    "        f\"{base_dir}/validation/validation.csv\", header=False, index=False\n",
    "    )\n",
    "    pd.DataFrame(test_data).to_csv(\n",
    "        f\"{base_dir}/test/test.csv\", header=False, index=False\n",
    "    )"
   ]
  },
  {
   "cell_type": "code",
   "execution_count": null,
   "metadata": {},
   "outputs": [],
   "source": [
    "s3_dataprep_split_code_uri = sagemaker.s3.S3Uploader.upload(\"preprocess_split.py\", s3uri_code)\n",
    "%store s3_dataprep_split_code_uri\n",
    "s3_dataprep_split_code_uri"
   ]
  },
  {
   "cell_type": "markdown",
   "metadata": {},
   "source": [
    "Create file to get processors of Data Wrangler and Processing (splitter):"
   ]
  },
  {
   "cell_type": "code",
   "execution_count": null,
   "metadata": {},
   "outputs": [],
   "source": [
    "%%writefile ../6-Pipelines/my_labs_solutions/dataprep_solution.py\n",
    "# DataPrep\n",
    "import sagemaker\n",
    "from sagemaker.processing import Processor\n",
    "from sagemaker.sklearn.processing import SKLearnProcessor\n",
    "\n",
    "def get_data_wrangler_processor(\n",
    "    processing_instance_type,\n",
    "    processing_instance_count,\n",
    "    role,\n",
    "    base_job_prefix=\"CustomerChurnDataWrangler\"\n",
    ") -> Processor:\n",
    "    \n",
    "    sm_sess = sagemaker.session.Session()\n",
    "    dw_container_uri = \"415577184552.dkr.ecr.us-east-2.amazonaws.com/sagemaker-data-wrangler-container:1.x\"\n",
    "    \n",
    "    # Processing step for feature engineering\n",
    "    processor = Processor(\n",
    "        role=role,\n",
    "        image_uri=container_uri,\n",
    "        instance_count=2,\n",
    "        instance_type=instance_type,\n",
    "        sagemaker_session=sess\n",
    "    )\n",
    "    return processor\n",
    "\n",
    "\n",
    "def get_data_split_processor(\n",
    "    processing_instance_type,\n",
    "    processing_instance_count,\n",
    "    role,\n",
    "    base_job_prefix=\"CustomerChurn\"\n",
    ") -> SKLearnProcessor:\n",
    "    \n",
    "    sm_sess = sagemaker.session.Session()\n",
    "    \n",
    "    # Processing step for feature engineering\n",
    "    sklearn_processor = SKLearnProcessor(\n",
    "        framework_version=\"0.23-1\",\n",
    "        instance_type=processing_instance_type,\n",
    "        instance_count=processing_instance_count,\n",
    "        base_job_name=f\"{base_job_prefix}/sklearn-CustomerChurn-preprocess\",  # choose any name\n",
    "        sagemaker_session=sm_sess,\n",
    "        role=role,\n",
    "    )\n",
    "    return sklearn_processor"
   ]
  },
  {
   "cell_type": "markdown",
   "metadata": {},
   "source": [
    "---\n",
    "# [You can now go to the second lab 2-Modeling](../2-Modeling/modeling.ipynb)"
   ]
  }
 ],
 "metadata": {
  "celltoolbar": "Tags",
  "instance_type": "ml.t3.medium",
  "kernelspec": {
   "display_name": "Python 3 (Data Science)",
   "language": "python",
   "name": "python3__SAGEMAKER_INTERNAL__arn:aws:sagemaker:us-east-2:429704687514:image/datascience-1.0"
  },
  "language_info": {
   "codemirror_mode": {
    "name": "ipython",
    "version": 3
   },
   "file_extension": ".py",
   "mimetype": "text/x-python",
   "name": "python",
   "nbconvert_exporter": "python",
   "pygments_lexer": "ipython3",
   "version": "3.7.10"
  },
  "notice": "Copyright 2017 Amazon.com, Inc. or its affiliates. All Rights Reserved.  Licensed under the Apache License, Version 2.0 (the \"License\"). You may not use this file except in compliance with the License. A copy of the License is located at http://aws.amazon.com/apache2.0/ or in the \"license\" file accompanying this file. This file is distributed on an \"AS IS\" BASIS, WITHOUT WARRANTIES OR CONDITIONS OF ANY KIND, either express or implied. See the License for the specific language governing permissions and limitations under the License."
 },
 "nbformat": 4,
 "nbformat_minor": 4
}
